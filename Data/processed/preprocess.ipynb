{
 "cells": [
  {
   "cell_type": "code",
   "execution_count": 1,
   "metadata": {},
   "outputs": [],
   "source": [
    "# Importing the libraries\n",
    "import pandas as pd\n",
    "import numpy as np"
   ]
  },
  {
   "cell_type": "code",
   "execution_count": 8,
   "metadata": {},
   "outputs": [],
   "source": [
    "# Load the first dataset\n",
    "file_path_1 = '/Users/ekinderdiyok/Documents/Projects/mental-health-database/data/raw/1- mental-illnesses-prevalence.csv'\n",
    "df1 = pd.read_csv(file_path_1)\n",
    "\n",
    "# Pivot the first DataFrame\n",
    "pivot_df1 = df1.melt(id_vars=[\"Entity\", \"Code\", \"Year\"], \n",
    "                     var_name=\"Disorder\", \n",
    "                     value_name=\"pop_pct\")\n",
    "\n",
    "# Recode entries in the Disorder variable for the first DataFrame\n",
    "conditions = [\n",
    "    pivot_df1['Disorder'].str.contains('eating', case=False, na=False),\n",
    "    pivot_df1['Disorder'].str.contains('bipolar', case=False, na=False),\n",
    "    pivot_df1['Disorder'].str.contains('schizophrenia', case=False, na=False),\n",
    "    pivot_df1['Disorder'].str.contains('anxiety', case=False, na=False),\n",
    "    pivot_df1['Disorder'].str.contains('depressive', case=False, na=False)\n",
    "]\n",
    "choices = ['eating', 'bipolar', 'schizophrenia', 'anxiety', 'depressive']\n",
    "pivot_df1['Disorder'] = np.select(conditions, choices, default=pivot_df1['Disorder'])\n",
    "\n",
    "# Save the pivoted DataFrame to a new CSV file\n",
    "output_file_path_1 = '/Users/ekinderdiyok/Documents/Projects/mental-health-database/data/processed/prevalence.csv'\n",
    "pivot_df1.to_csv(output_file_path_1, index=False)"
   ]
  },
  {
   "cell_type": "code",
   "execution_count": 11,
   "metadata": {},
   "outputs": [],
   "source": [
    "# Load the second dataset\n",
    "file_path_2 = '/Users/ekinderdiyok/Documents/Projects/mental-health-database/data/raw/2- burden-disease-from-each-mental-illness(1).csv'\n",
    "df2 = pd.read_csv(file_path_2)\n",
    "\n",
    "# Pivot the second DataFrame\n",
    "pivot_df2 = df2.melt(id_vars=[\"Entity\", \"Code\", \"Year\"], \n",
    "                     var_name=\"Disorder\", \n",
    "                     value_name=\"daly\")\n",
    "\n",
    "# Recode entries in the Disorder variable for the second DataFrame\n",
    "conditions = [\n",
    "    pivot_df2['Disorder'].str.contains('eating', case=False, na=False),\n",
    "    pivot_df2['Disorder'].str.contains('bipolar', case=False, na=False),\n",
    "    pivot_df2['Disorder'].str.contains('schizophrenia', case=False, na=False),\n",
    "    pivot_df2['Disorder'].str.contains('anxiety', case=False, na=False),\n",
    "    pivot_df2['Disorder'].str.contains('depressive', case=False, na=False)\n",
    "]\n",
    "choices = ['eating', 'bipolar', 'schizophrenia', 'anxiety', 'depressive']\n",
    "pivot_df2['Disorder'] = np.select(conditions, choices, default=pivot_df2['Disorder'])\n",
    "\n",
    "# Save the pivoted and recoded DataFrame to a new CSV file\n",
    "output_file_path_2 = '/Users/ekinderdiyok/Documents/Projects/mental-health-database/data/processed/burden.csv'\n",
    "pivot_df2.to_csv(output_file_path_2, index=False)"
   ]
  },
  {
   "cell_type": "code",
   "execution_count": 12,
   "metadata": {},
   "outputs": [
    {
     "name": "stdout",
     "output_type": "stream",
     "text": [
      "        Entity Code  Year       Disorder   pop_pct\n",
      "0  Afghanistan  AFG  1990  schizophrenia  0.223206\n",
      "1  Afghanistan  AFG  1991  schizophrenia  0.222454\n",
      "2  Afghanistan  AFG  1992  schizophrenia  0.221751\n",
      "3  Afghanistan  AFG  1993  schizophrenia  0.220987\n",
      "4  Afghanistan  AFG  1994  schizophrenia  0.220183\n",
      "\n",
      "        Entity Code  Year    Disorder       daly\n",
      "0  Afghanistan  AFG  1990  depressive  895.22565\n",
      "1  Afghanistan  AFG  1991  depressive  893.88434\n",
      "2  Afghanistan  AFG  1992  depressive  892.34973\n",
      "3  Afghanistan  AFG  1993  depressive  891.51587\n",
      "4  Afghanistan  AFG  1994  depressive  891.39160\n"
     ]
    }
   ],
   "source": [
    "print(pivot_df1.head())\n",
    "print('')\n",
    "print(pivot_df2.head())"
   ]
  },
  {
   "cell_type": "code",
   "execution_count": 13,
   "metadata": {},
   "outputs": [],
   "source": [
    "# Merge the two DataFrames using an inner join on the composite key\n",
    "merged_df = pd.merge(pivot_df1, pivot_df2, on=['Entity', 'Year', 'Disorder'], how='inner')"
   ]
  },
  {
   "cell_type": "code",
   "execution_count": 14,
   "metadata": {},
   "outputs": [],
   "source": [
    "# Drop the 'Code_x' and 'Code_y' columns\n",
    "merged_df = merged_df.drop(columns=['Code_x', 'Code_y'])\n",
    "\n",
    "# Convert column names to lower case\n",
    "merged_df.columns = merged_df.columns.str.lower()"
   ]
  },
  {
   "cell_type": "code",
   "execution_count": 15,
   "metadata": {},
   "outputs": [
    {
     "data": {
      "text/html": [
       "<div>\n",
       "<style scoped>\n",
       "    .dataframe tbody tr th:only-of-type {\n",
       "        vertical-align: middle;\n",
       "    }\n",
       "\n",
       "    .dataframe tbody tr th {\n",
       "        vertical-align: top;\n",
       "    }\n",
       "\n",
       "    .dataframe thead th {\n",
       "        text-align: right;\n",
       "    }\n",
       "</style>\n",
       "<table border=\"1\" class=\"dataframe\">\n",
       "  <thead>\n",
       "    <tr style=\"text-align: right;\">\n",
       "      <th></th>\n",
       "      <th>entity</th>\n",
       "      <th>year</th>\n",
       "      <th>disorder</th>\n",
       "      <th>pop_pct</th>\n",
       "      <th>daly</th>\n",
       "    </tr>\n",
       "  </thead>\n",
       "  <tbody>\n",
       "    <tr>\n",
       "      <th>0</th>\n",
       "      <td>Afghanistan</td>\n",
       "      <td>1990</td>\n",
       "      <td>schizophrenia</td>\n",
       "      <td>0.223206</td>\n",
       "      <td>138.24825</td>\n",
       "    </tr>\n",
       "    <tr>\n",
       "      <th>1</th>\n",
       "      <td>Afghanistan</td>\n",
       "      <td>1991</td>\n",
       "      <td>schizophrenia</td>\n",
       "      <td>0.222454</td>\n",
       "      <td>137.76122</td>\n",
       "    </tr>\n",
       "    <tr>\n",
       "      <th>2</th>\n",
       "      <td>Afghanistan</td>\n",
       "      <td>1992</td>\n",
       "      <td>schizophrenia</td>\n",
       "      <td>0.221751</td>\n",
       "      <td>137.08030</td>\n",
       "    </tr>\n",
       "    <tr>\n",
       "      <th>3</th>\n",
       "      <td>Afghanistan</td>\n",
       "      <td>1993</td>\n",
       "      <td>schizophrenia</td>\n",
       "      <td>0.220987</td>\n",
       "      <td>136.48602</td>\n",
       "    </tr>\n",
       "    <tr>\n",
       "      <th>4</th>\n",
       "      <td>Afghanistan</td>\n",
       "      <td>1994</td>\n",
       "      <td>schizophrenia</td>\n",
       "      <td>0.220183</td>\n",
       "      <td>136.18323</td>\n",
       "    </tr>\n",
       "  </tbody>\n",
       "</table>\n",
       "</div>"
      ],
      "text/plain": [
       "        entity  year       disorder   pop_pct       daly\n",
       "0  Afghanistan  1990  schizophrenia  0.223206  138.24825\n",
       "1  Afghanistan  1991  schizophrenia  0.222454  137.76122\n",
       "2  Afghanistan  1992  schizophrenia  0.221751  137.08030\n",
       "3  Afghanistan  1993  schizophrenia  0.220987  136.48602\n",
       "4  Afghanistan  1994  schizophrenia  0.220183  136.18323"
      ]
     },
     "execution_count": 15,
     "metadata": {},
     "output_type": "execute_result"
    }
   ],
   "source": [
    "merged_df.head()"
   ]
  },
  {
   "cell_type": "code",
   "execution_count": 17,
   "metadata": {},
   "outputs": [],
   "source": [
    "# Save the merged DataFrame to a new CSV file\n",
    "output_file_path_merged = '/Users/ekinderdiyok/Documents/Projects/mental-health-database/data/processed/prevalence_burden.csv'\n",
    "merged_df.to_csv(output_file_path_merged, index=False)"
   ]
  }
 ],
 "metadata": {
  "kernelspec": {
   "display_name": ".venv",
   "language": "python",
   "name": "python3"
  },
  "language_info": {
   "codemirror_mode": {
    "name": "ipython",
    "version": 3
   },
   "file_extension": ".py",
   "mimetype": "text/x-python",
   "name": "python",
   "nbconvert_exporter": "python",
   "pygments_lexer": "ipython3",
   "version": "3.9.6"
  }
 },
 "nbformat": 4,
 "nbformat_minor": 2
}
