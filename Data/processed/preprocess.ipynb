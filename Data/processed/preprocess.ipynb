{
 "cells": [
  {
   "cell_type": "code",
   "execution_count": null,
   "metadata": {},
   "outputs": [],
   "source": [
    "# Importing the libraries\n",
    "import pandas as pd\n",
    "import numpy as np"
   ]
  },
  {
   "cell_type": "code",
   "execution_count": 19,
   "metadata": {},
   "outputs": [
    {
     "ename": "FileNotFoundError",
     "evalue": "[Errno 2] No such file or directory: '/Users/ekinderdiyok/Documents/Projects/Mental Health Database/Data/raw/1- mental-illnesses-prevalence.csv'",
     "output_type": "error",
     "traceback": [
      "\u001b[0;31m---------------------------------------------------------------------------\u001b[0m",
      "\u001b[0;31mFileNotFoundError\u001b[0m                         Traceback (most recent call last)",
      "Cell \u001b[0;32mIn[19], line 3\u001b[0m\n\u001b[1;32m      1\u001b[0m \u001b[38;5;66;03m# Load the first dataset\u001b[39;00m\n\u001b[1;32m      2\u001b[0m file_path_1 \u001b[38;5;241m=\u001b[39m \u001b[38;5;124m'\u001b[39m\u001b[38;5;124m/Users/ekinderdiyok/Documents/Projects/Mental Health Database/Data/raw/1- mental-illnesses-prevalence.csv\u001b[39m\u001b[38;5;124m'\u001b[39m\n\u001b[0;32m----> 3\u001b[0m df1 \u001b[38;5;241m=\u001b[39m \u001b[43mpd\u001b[49m\u001b[38;5;241;43m.\u001b[39;49m\u001b[43mread_csv\u001b[49m\u001b[43m(\u001b[49m\u001b[43mfile_path_1\u001b[49m\u001b[43m)\u001b[49m\n\u001b[1;32m      5\u001b[0m \u001b[38;5;66;03m# Pivot the first DataFrame\u001b[39;00m\n\u001b[1;32m      6\u001b[0m pivot_df1 \u001b[38;5;241m=\u001b[39m df1\u001b[38;5;241m.\u001b[39mmelt(id_vars\u001b[38;5;241m=\u001b[39m[\u001b[38;5;124m\"\u001b[39m\u001b[38;5;124mEntity\u001b[39m\u001b[38;5;124m\"\u001b[39m, \u001b[38;5;124m\"\u001b[39m\u001b[38;5;124mCode\u001b[39m\u001b[38;5;124m\"\u001b[39m, \u001b[38;5;124m\"\u001b[39m\u001b[38;5;124mYear\u001b[39m\u001b[38;5;124m\"\u001b[39m], \n\u001b[1;32m      7\u001b[0m                      var_name\u001b[38;5;241m=\u001b[39m\u001b[38;5;124m\"\u001b[39m\u001b[38;5;124mDisorder\u001b[39m\u001b[38;5;124m\"\u001b[39m, \n\u001b[1;32m      8\u001b[0m                      value_name\u001b[38;5;241m=\u001b[39m\u001b[38;5;124m\"\u001b[39m\u001b[38;5;124mpop_pct\u001b[39m\u001b[38;5;124m\"\u001b[39m)\n",
      "File \u001b[0;32m~/Documents/Projects/Mental Health Database/.venv/lib/python3.9/site-packages/pandas/io/parsers/readers.py:1026\u001b[0m, in \u001b[0;36mread_csv\u001b[0;34m(filepath_or_buffer, sep, delimiter, header, names, index_col, usecols, dtype, engine, converters, true_values, false_values, skipinitialspace, skiprows, skipfooter, nrows, na_values, keep_default_na, na_filter, verbose, skip_blank_lines, parse_dates, infer_datetime_format, keep_date_col, date_parser, date_format, dayfirst, cache_dates, iterator, chunksize, compression, thousands, decimal, lineterminator, quotechar, quoting, doublequote, escapechar, comment, encoding, encoding_errors, dialect, on_bad_lines, delim_whitespace, low_memory, memory_map, float_precision, storage_options, dtype_backend)\u001b[0m\n",
      "File \u001b[0;32m~/Documents/Projects/Mental Health Database/.venv/lib/python3.9/site-packages/pandas/io/parsers/readers.py:620\u001b[0m, in \u001b[0;36m_read\u001b[0;34m(filepath_or_buffer, kwds)\u001b[0m\n",
      "File \u001b[0;32m~/Documents/Projects/Mental Health Database/.venv/lib/python3.9/site-packages/pandas/io/parsers/readers.py:1620\u001b[0m, in \u001b[0;36m__init__\u001b[0;34m(self, f, engine, **kwds)\u001b[0m\n",
      "File \u001b[0;32m~/Documents/Projects/Mental Health Database/.venv/lib/python3.9/site-packages/pandas/io/parsers/readers.py:1880\u001b[0m, in \u001b[0;36m_make_engine\u001b[0;34m(self, f, engine)\u001b[0m\n",
      "File \u001b[0;32m~/Documents/Projects/Mental Health Database/.venv/lib/python3.9/site-packages/pandas/io/common.py:873\u001b[0m, in \u001b[0;36mget_handle\u001b[0;34m(path_or_buf, mode, encoding, compression, memory_map, is_text, errors, storage_options)\u001b[0m\n\u001b[1;32m    868\u001b[0m \u001b[38;5;28;01melif\u001b[39;00m \u001b[38;5;28misinstance\u001b[39m(handle, \u001b[38;5;28mstr\u001b[39m):\n\u001b[1;32m    869\u001b[0m     \u001b[38;5;66;03m# Check whether the filename is to be opened in binary mode.\u001b[39;00m\n\u001b[1;32m    870\u001b[0m     \u001b[38;5;66;03m# Binary mode does not support 'encoding' and 'newline'.\u001b[39;00m\n\u001b[1;32m    871\u001b[0m     \u001b[38;5;28;01mif\u001b[39;00m ioargs\u001b[38;5;241m.\u001b[39mencoding \u001b[38;5;129;01mand\u001b[39;00m \u001b[38;5;124m\"\u001b[39m\u001b[38;5;124mb\u001b[39m\u001b[38;5;124m\"\u001b[39m \u001b[38;5;129;01mnot\u001b[39;00m \u001b[38;5;129;01min\u001b[39;00m ioargs\u001b[38;5;241m.\u001b[39mmode:\n\u001b[1;32m    872\u001b[0m         \u001b[38;5;66;03m# Encoding\u001b[39;00m\n\u001b[0;32m--> 873\u001b[0m         handle \u001b[38;5;241m=\u001b[39m \u001b[38;5;28;43mopen\u001b[39;49m\u001b[43m(\u001b[49m\n\u001b[1;32m    874\u001b[0m \u001b[43m            \u001b[49m\u001b[43mhandle\u001b[49m\u001b[43m,\u001b[49m\n\u001b[1;32m    875\u001b[0m \u001b[43m            \u001b[49m\u001b[43mioargs\u001b[49m\u001b[38;5;241;43m.\u001b[39;49m\u001b[43mmode\u001b[49m\u001b[43m,\u001b[49m\n\u001b[1;32m    876\u001b[0m \u001b[43m            \u001b[49m\u001b[43mencoding\u001b[49m\u001b[38;5;241;43m=\u001b[39;49m\u001b[43mioargs\u001b[49m\u001b[38;5;241;43m.\u001b[39;49m\u001b[43mencoding\u001b[49m\u001b[43m,\u001b[49m\n\u001b[1;32m    877\u001b[0m \u001b[43m            \u001b[49m\u001b[43merrors\u001b[49m\u001b[38;5;241;43m=\u001b[39;49m\u001b[43merrors\u001b[49m\u001b[43m,\u001b[49m\n\u001b[1;32m    878\u001b[0m \u001b[43m            \u001b[49m\u001b[43mnewline\u001b[49m\u001b[38;5;241;43m=\u001b[39;49m\u001b[38;5;124;43m\"\u001b[39;49m\u001b[38;5;124;43m\"\u001b[39;49m\u001b[43m,\u001b[49m\n\u001b[1;32m    879\u001b[0m \u001b[43m        \u001b[49m\u001b[43m)\u001b[49m\n\u001b[1;32m    880\u001b[0m     \u001b[38;5;28;01melse\u001b[39;00m:\n\u001b[1;32m    881\u001b[0m         \u001b[38;5;66;03m# Binary mode\u001b[39;00m\n\u001b[1;32m    882\u001b[0m         handle \u001b[38;5;241m=\u001b[39m \u001b[38;5;28mopen\u001b[39m(handle, ioargs\u001b[38;5;241m.\u001b[39mmode)\n",
      "\u001b[0;31mFileNotFoundError\u001b[0m: [Errno 2] No such file or directory: '/Users/ekinderdiyok/Documents/Projects/Mental Health Database/Data/raw/1- mental-illnesses-prevalence.csv'"
     ]
    }
   ],
   "source": [
    "# Load the first dataset\n",
    "file_path_1 = '/Users/ekinderdiyok/Documents/Projects/Mental Health Database/Data/raw/1- mental-illnesses-prevalence.csv'\n",
    "df1 = pd.read_csv(file_path_1)\n",
    "\n",
    "# Pivot the first DataFrame\n",
    "pivot_df1 = df1.melt(id_vars=[\"Entity\", \"Code\", \"Year\"], \n",
    "                     var_name=\"Disorder\", \n",
    "                     value_name=\"pop_pct\")\n",
    "\n",
    "# Recode entries in the Disorder variable for the first DataFrame\n",
    "conditions = [\n",
    "    pivot_df1['Disorder'].str.contains('eating', case=False, na=False),\n",
    "    pivot_df1['Disorder'].str.contains('bipolar', case=False, na=False),\n",
    "    pivot_df1['Disorder'].str.contains('schizophrenia', case=False, na=False),\n",
    "    pivot_df1['Disorder'].str.contains('anxiety', case=False, na=False),\n",
    "    pivot_df1['Disorder'].str.contains('depressive', case=False, na=False)\n",
    "]\n",
    "choices = ['eating', 'bipolar', 'schizophrenia', 'anxiety', 'depressive']\n",
    "pivot_df1['Disorder'] = np.select(conditions, choices, default=pivot_df1['Disorder'])\n",
    "\n",
    "# Save the pivoted DataFrame to a new CSV file\n",
    "output_file_path_1 = '/Users/ekinderdiyok/Documents/Projects/Mental Health Database/data/processed/prevalence.csv'\n",
    "pivot_df1.to_csv(output_file_path_1, index=False)"
   ]
  },
  {
   "cell_type": "code",
   "execution_count": 11,
   "metadata": {},
   "outputs": [],
   "source": [
    "# Load the second dataset\n",
    "file_path_2 = '/Users/ekinderdiyok/Documents/Projects/Mental Health Database/Data/raw/2- burden-disease-from-each-mental-illness(1).csv'\n",
    "df2 = pd.read_csv(file_path_2)\n",
    "\n",
    "# Pivot the second DataFrame\n",
    "pivot_df2 = df2.melt(id_vars=[\"Entity\", \"Code\", \"Year\"], \n",
    "                     var_name=\"Disorder\", \n",
    "                     value_name=\"daly\")\n",
    "\n",
    "# Recode entries in the Disorder variable for the second DataFrame\n",
    "conditions = [\n",
    "    pivot_df2['Disorder'].str.contains('eating', case=False, na=False),\n",
    "    pivot_df2['Disorder'].str.contains('bipolar', case=False, na=False),\n",
    "    pivot_df2['Disorder'].str.contains('schizophrenia', case=False, na=False),\n",
    "    pivot_df2['Disorder'].str.contains('anxiety', case=False, na=False),\n",
    "    pivot_df2['Disorder'].str.contains('depressive', case=False, na=False)\n",
    "]\n",
    "choices = ['eating', 'bipolar', 'schizophrenia', 'anxiety', 'depressive']\n",
    "pivot_df2['Disorder'] = np.select(conditions, choices, default=pivot_df2['Disorder'])\n",
    "\n",
    "# Save the pivoted and recoded DataFrame to a new CSV file\n",
    "output_file_path_2 = '/Users/ekinderdiyok/Documents/Projects/Mental Health Database/data/processed/burden.csv'\n",
    "pivot_df2.to_csv(output_file_path_2, index=False)"
   ]
  },
  {
   "cell_type": "code",
   "execution_count": 29,
   "metadata": {},
   "outputs": [
    {
     "name": "stdout",
     "output_type": "stream",
     "text": [
      "        Entity Code  Year       Disorder   pop_pct\n",
      "0  Afghanistan  AFG  1990  schizophrenia  0.223206\n",
      "1  Afghanistan  AFG  1991  schizophrenia  0.222454\n",
      "2  Afghanistan  AFG  1992  schizophrenia  0.221751\n",
      "3  Afghanistan  AFG  1993  schizophrenia  0.220987\n",
      "4  Afghanistan  AFG  1994  schizophrenia  0.220183\n",
      "\n",
      "        Entity Code  Year    Disorder       daly\n",
      "0  Afghanistan  AFG  1990  depressive  895.22565\n",
      "1  Afghanistan  AFG  1991  depressive  893.88434\n",
      "2  Afghanistan  AFG  1992  depressive  892.34973\n",
      "3  Afghanistan  AFG  1993  depressive  891.51587\n",
      "4  Afghanistan  AFG  1994  depressive  891.39160\n"
     ]
    }
   ],
   "source": [
    "print(pivot_df1.head())\n",
    "print('')\n",
    "print(pivot_df2.head())"
   ]
  },
  {
   "cell_type": "code",
   "execution_count": 30,
   "metadata": {},
   "outputs": [],
   "source": [
    "# Merge the two DataFrames using an inner join on the composite key\n",
    "merged_df = pd.merge(pivot_df1, pivot_df2, on=['Entity', 'Year', 'Disorder'], how='inner')"
   ]
  },
  {
   "cell_type": "code",
   "execution_count": 31,
   "metadata": {},
   "outputs": [],
   "source": [
    "# Drop the 'Code_x' and 'Code_y' columns\n",
    "merged_df = merged_df.drop(columns=['Code_x', 'Code_y'])\n",
    "\n",
    "# Convert column names to lower case\n",
    "merged_df.columns = merged_df.columns.str.lower()"
   ]
  },
  {
   "cell_type": "code",
   "execution_count": 32,
   "metadata": {},
   "outputs": [
    {
     "data": {
      "text/html": [
       "<div>\n",
       "<style scoped>\n",
       "    .dataframe tbody tr th:only-of-type {\n",
       "        vertical-align: middle;\n",
       "    }\n",
       "\n",
       "    .dataframe tbody tr th {\n",
       "        vertical-align: top;\n",
       "    }\n",
       "\n",
       "    .dataframe thead th {\n",
       "        text-align: right;\n",
       "    }\n",
       "</style>\n",
       "<table border=\"1\" class=\"dataframe\">\n",
       "  <thead>\n",
       "    <tr style=\"text-align: right;\">\n",
       "      <th></th>\n",
       "      <th>entity</th>\n",
       "      <th>year</th>\n",
       "      <th>disorder</th>\n",
       "      <th>pop_pct</th>\n",
       "      <th>daly</th>\n",
       "    </tr>\n",
       "  </thead>\n",
       "  <tbody>\n",
       "    <tr>\n",
       "      <th>0</th>\n",
       "      <td>Afghanistan</td>\n",
       "      <td>1990</td>\n",
       "      <td>schizophrenia</td>\n",
       "      <td>0.223206</td>\n",
       "      <td>138.24825</td>\n",
       "    </tr>\n",
       "    <tr>\n",
       "      <th>1</th>\n",
       "      <td>Afghanistan</td>\n",
       "      <td>1991</td>\n",
       "      <td>schizophrenia</td>\n",
       "      <td>0.222454</td>\n",
       "      <td>137.76122</td>\n",
       "    </tr>\n",
       "    <tr>\n",
       "      <th>2</th>\n",
       "      <td>Afghanistan</td>\n",
       "      <td>1992</td>\n",
       "      <td>schizophrenia</td>\n",
       "      <td>0.221751</td>\n",
       "      <td>137.08030</td>\n",
       "    </tr>\n",
       "    <tr>\n",
       "      <th>3</th>\n",
       "      <td>Afghanistan</td>\n",
       "      <td>1993</td>\n",
       "      <td>schizophrenia</td>\n",
       "      <td>0.220987</td>\n",
       "      <td>136.48602</td>\n",
       "    </tr>\n",
       "    <tr>\n",
       "      <th>4</th>\n",
       "      <td>Afghanistan</td>\n",
       "      <td>1994</td>\n",
       "      <td>schizophrenia</td>\n",
       "      <td>0.220183</td>\n",
       "      <td>136.18323</td>\n",
       "    </tr>\n",
       "  </tbody>\n",
       "</table>\n",
       "</div>"
      ],
      "text/plain": [
       "        entity  year       disorder   pop_pct       daly\n",
       "0  Afghanistan  1990  schizophrenia  0.223206  138.24825\n",
       "1  Afghanistan  1991  schizophrenia  0.222454  137.76122\n",
       "2  Afghanistan  1992  schizophrenia  0.221751  137.08030\n",
       "3  Afghanistan  1993  schizophrenia  0.220987  136.48602\n",
       "4  Afghanistan  1994  schizophrenia  0.220183  136.18323"
      ]
     },
     "execution_count": 32,
     "metadata": {},
     "output_type": "execute_result"
    }
   ],
   "source": [
    "merged_df.head()"
   ]
  },
  {
   "cell_type": "code",
   "execution_count": 33,
   "metadata": {},
   "outputs": [],
   "source": [
    "# Save the merged DataFrame to a new CSV file\n",
    "output_file_path_merged = '/Users/ekinderdiyok/Documents/Projects/Mental Health Database/Data/prevalence_burden.csv'\n",
    "merged_df.to_csv(output_file_path_merged, index=False)"
   ]
  },
  {
   "cell_type": "code",
   "execution_count": null,
   "metadata": {},
   "outputs": [],
   "source": []
  }
 ],
 "metadata": {
  "kernelspec": {
   "display_name": ".venv",
   "language": "python",
   "name": "python3"
  },
  "language_info": {
   "codemirror_mode": {
    "name": "ipython",
    "version": 3
   },
   "file_extension": ".py",
   "mimetype": "text/x-python",
   "name": "python",
   "nbconvert_exporter": "python",
   "pygments_lexer": "ipython3",
   "version": "3.9.6"
  }
 },
 "nbformat": 4,
 "nbformat_minor": 2
}
